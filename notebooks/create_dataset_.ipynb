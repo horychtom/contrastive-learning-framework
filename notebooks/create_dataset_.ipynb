{
 "cells": [
  {
   "cell_type": "code",
   "execution_count": 46,
   "metadata": {},
   "outputs": [],
   "source": [
    "import pandas as pd\n",
    "from tqdm import tqdm\n",
    "import numpy as np\n",
    "import seaborn as sns\n",
    "np.random.seed(42)"
   ]
  },
  {
   "cell_type": "code",
   "execution_count": 47,
   "metadata": {},
   "outputs": [],
   "source": [
    "conts = pd.read_csv('../data/documentContents.csv')\n",
    "header = ['seed'] + ['rec'+str(i) for i in range(14)]\n",
    "recs = pd.read_csv('../data/recommendationPairs.csv',names = header,index_col=0)\n",
    "train_ids = pd.read_csv('../data/dataTrainIDs.csv')\n",
    "\n",
    "full= pd.read_csv('../data/out.csv')"
   ]
  },
  {
   "cell_type": "code",
   "execution_count": 48,
   "metadata": {},
   "outputs": [],
   "source": [
    "conts = conts.rename(columns={'Abstract/Review/Summarry':'text'})\n",
    "conts = conts[~conts.text.isna()]\n",
    "conts['text'] = conts.text.apply(lambda x: x[2:-2])\n",
    "conts['text_len'] = conts.text.apply(lambda x: len(x))\n",
    "conts = conts[conts.text_len > 150]\n",
    "conts['zbMATH_ID']=conts['zbMATH_ID'].astype(int)\n",
    "conts=conts.set_index('zbMATH_ID')"
   ]
  },
  {
   "cell_type": "code",
   "execution_count": 49,
   "metadata": {},
   "outputs": [],
   "source": [
    "full = full.rename(columns={'de':'id'})[['id','text']]\n",
    "full['text_len'] = full.text.apply(lambda x: len(x))\n",
    "full = full[full.text_len > 150]\n",
    "full['id']=full['id'].astype(int)\n",
    "full=full.set_index('id')"
   ]
  },
  {
   "cell_type": "code",
   "execution_count": 50,
   "metadata": {},
   "outputs": [],
   "source": [
    "train_ids = train_ids['seeID'].unique()\n",
    "test_ids = np.setdiff1d(np.array(recs.index),train_ids)\n",
    "pool_ids = np.array(full.index)\n",
    "all_labeled_ids = np.array(recs.index)"
   ]
  },
  {
   "cell_type": "code",
   "execution_count": 51,
   "metadata": {},
   "outputs": [],
   "source": [
    "train_recs = recs.loc[train_ids]\n",
    "test_recs = recs.loc[test_ids]"
   ]
  },
  {
   "cell_type": "code",
   "execution_count": 52,
   "metadata": {},
   "outputs": [],
   "source": [
    "def create_pairs(df,recs_ids,full_ids):\n",
    "    rowlist=[]\n",
    "    for seed,row in tqdm(df.iterrows()):\n",
    "        rec_list = row[~row.isna()].astype(int).to_list()\n",
    "        for rec_id in rec_list:\n",
    "            # create positive\n",
    "            rowlist.append({'seed':seed,'rec':rec_id,'label':1})\n",
    "            # sample negative\n",
    "            random_negative = np.random.choice(full_ids)\n",
    "            while random_negative in recs_ids:\n",
    "                random_negative = np.random.choice(full_ids)\n",
    "            rowlist.append({'seed':seed,'rec':random_negative,'label':0})\n",
    "    return pd.DataFrame(rowlist)\n",
    "    "
   ]
  },
  {
   "cell_type": "code",
   "execution_count": 53,
   "metadata": {},
   "outputs": [
    {
     "name": "stderr",
     "output_type": "stream",
     "text": [
      "20it [00:00, 1600.48it/s]\n"
     ]
    },
    {
     "name": "stderr",
     "output_type": "stream",
     "text": [
      "60it [00:00, 2073.05it/s]\n"
     ]
    }
   ],
   "source": [
    "train_dataset = create_pairs(train_recs,all_labeled_ids,full_ids=pool_ids)\n",
    "test_dataset = create_pairs(test_recs,all_labeled_ids,full_ids=pool_ids)"
   ]
  },
  {
   "cell_type": "code",
   "execution_count": 54,
   "metadata": {},
   "outputs": [
    {
     "data": {
      "text/html": [
       "<div>\n",
       "<style scoped>\n",
       "    .dataframe tbody tr th:only-of-type {\n",
       "        vertical-align: middle;\n",
       "    }\n",
       "\n",
       "    .dataframe tbody tr th {\n",
       "        vertical-align: top;\n",
       "    }\n",
       "\n",
       "    .dataframe thead th {\n",
       "        text-align: right;\n",
       "    }\n",
       "</style>\n",
       "<table border=\"1\" class=\"dataframe\">\n",
       "  <thead>\n",
       "    <tr style=\"text-align: right;\">\n",
       "      <th></th>\n",
       "      <th>seed</th>\n",
       "      <th>rec</th>\n",
       "      <th>label</th>\n",
       "    </tr>\n",
       "  </thead>\n",
       "  <tbody>\n",
       "    <tr>\n",
       "      <th>0</th>\n",
       "      <td>1566951</td>\n",
       "      <td>4181495</td>\n",
       "      <td>1</td>\n",
       "    </tr>\n",
       "    <tr>\n",
       "      <th>1</th>\n",
       "      <td>1566951</td>\n",
       "      <td>5924715</td>\n",
       "      <td>0</td>\n",
       "    </tr>\n",
       "    <tr>\n",
       "      <th>2</th>\n",
       "      <td>1566951</td>\n",
       "      <td>930151</td>\n",
       "      <td>1</td>\n",
       "    </tr>\n",
       "    <tr>\n",
       "      <th>3</th>\n",
       "      <td>1566951</td>\n",
       "      <td>2507805</td>\n",
       "      <td>0</td>\n",
       "    </tr>\n",
       "    <tr>\n",
       "      <th>4</th>\n",
       "      <td>1566951</td>\n",
       "      <td>5083606</td>\n",
       "      <td>1</td>\n",
       "    </tr>\n",
       "    <tr>\n",
       "      <th>...</th>\n",
       "      <td>...</td>\n",
       "      <td>...</td>\n",
       "      <td>...</td>\n",
       "    </tr>\n",
       "    <tr>\n",
       "      <th>223</th>\n",
       "      <td>1269765</td>\n",
       "      <td>1233903</td>\n",
       "      <td>0</td>\n",
       "    </tr>\n",
       "    <tr>\n",
       "      <th>224</th>\n",
       "      <td>1269765</td>\n",
       "      <td>952018</td>\n",
       "      <td>1</td>\n",
       "    </tr>\n",
       "    <tr>\n",
       "      <th>225</th>\n",
       "      <td>1269765</td>\n",
       "      <td>2541827</td>\n",
       "      <td>0</td>\n",
       "    </tr>\n",
       "    <tr>\n",
       "      <th>226</th>\n",
       "      <td>1269765</td>\n",
       "      <td>1334957</td>\n",
       "      <td>1</td>\n",
       "    </tr>\n",
       "    <tr>\n",
       "      <th>227</th>\n",
       "      <td>1269765</td>\n",
       "      <td>1419752</td>\n",
       "      <td>0</td>\n",
       "    </tr>\n",
       "  </tbody>\n",
       "</table>\n",
       "<p>228 rows × 3 columns</p>\n",
       "</div>"
      ],
      "text/plain": [
       "        seed      rec  label\n",
       "0    1566951  4181495      1\n",
       "1    1566951  5924715      0\n",
       "2    1566951   930151      1\n",
       "3    1566951  2507805      0\n",
       "4    1566951  5083606      1\n",
       "..       ...      ...    ...\n",
       "223  1269765  1233903      0\n",
       "224  1269765   952018      1\n",
       "225  1269765  2541827      0\n",
       "226  1269765  1334957      1\n",
       "227  1269765  1419752      0\n",
       "\n",
       "[228 rows x 3 columns]"
      ]
     },
     "execution_count": 54,
     "metadata": {},
     "output_type": "execute_result"
    }
   ],
   "source": [
    "train_dataset"
   ]
  },
  {
   "cell_type": "code",
   "execution_count": 55,
   "metadata": {},
   "outputs": [],
   "source": [
    "def get_contents(df,lookup_positive,lookup_negative):\n",
    "    rowlist=[]\n",
    "    for idx,row in df.iterrows():\n",
    "\n",
    "        if row['seed'] not in lookup_positive.index:\n",
    "            continue\n",
    "        anchor = lookup_positive.loc[row['seed']].text\n",
    "        # positive recommendations\n",
    "        if row['label']==1:\n",
    "            \n",
    "            # skip the ones that are not present in contents\n",
    "            if row['rec'] not in lookup_positive.index:\n",
    "                continue\n",
    "            \n",
    "            rec = lookup_positive.loc[row['rec']].text\n",
    "            \n",
    "        # negative ones. Sampling from whole zbmath corpus\n",
    "        else:\n",
    "            rec = lookup_negative.loc[row['rec']].text\n",
    "\n",
    "        rowlist.append({'seed':row['seed'],'anchor':anchor,'rec':rec,'label':row['label']})\n",
    "    return pd.DataFrame(rowlist).set_index('seed').sample(frac=1.,random_state=42)\n",
    "        "
   ]
  },
  {
   "cell_type": "code",
   "execution_count": 56,
   "metadata": {},
   "outputs": [],
   "source": [
    "final_train_dataset = get_contents(train_dataset,conts,full)\n",
    "final_test_dataset = get_contents(test_dataset,conts,full)"
   ]
  },
  {
   "cell_type": "code",
   "execution_count": 58,
   "metadata": {},
   "outputs": [],
   "source": [
    "dev_ids = np.array([1745734, 1031529, 1275776, 1269765]) # set by Ankit\n",
    "train_ids = np.setdiff1d(final_train_dataset.index.unique(),dev_ids)"
   ]
  },
  {
   "cell_type": "code",
   "execution_count": 62,
   "metadata": {},
   "outputs": [],
   "source": [
    "final_dev_dataset = final_train_dataset.loc[dev_ids].sample(frac=1,random_state=42)\n",
    "final_train_dataset = final_train_dataset.loc[train_ids].sample(frac=1,random_state=42)"
   ]
  },
  {
   "cell_type": "code",
   "execution_count": 64,
   "metadata": {},
   "outputs": [],
   "source": [
    "final_train_dataset.to_csv('../data/final/final_train_dataset.csv')\n",
    "final_dev_dataset.to_csv('../data/final/final_dev_dataset.csv')\n",
    "final_test_dataset.to_csv('../data/final/final_test_dataset.csv')"
   ]
  }
 ],
 "metadata": {
  "kernelspec": {
   "display_name": "myenv",
   "language": "python",
   "name": "python3"
  },
  "language_info": {
   "codemirror_mode": {
    "name": "ipython",
    "version": 3
   },
   "file_extension": ".py",
   "mimetype": "text/x-python",
   "name": "python",
   "nbconvert_exporter": "python",
   "pygments_lexer": "ipython3",
   "version": "3.10.12"
  }
 },
 "nbformat": 4,
 "nbformat_minor": 2
}
